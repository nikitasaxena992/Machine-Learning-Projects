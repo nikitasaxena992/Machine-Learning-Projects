{
 "cells": [
  {
   "cell_type": "markdown",
   "id": "179c40f0",
   "metadata": {},
   "source": [
    "### Analomy-Detection\n",
    "##### Analomy Detection is a process of finding the outliers in the data i.e. points that are significantly different from the majority of the other  data points."
   ]
  },
  {
   "cell_type": "code",
   "execution_count": 95,
   "id": "f3b0b5cd",
   "metadata": {},
   "outputs": [],
   "source": [
    "### importing libraries\n",
    "import numpy as np\n",
    "import pandas as pd\n",
    "import seaborn as sns\n",
    "import matplotlib.pyplot as plt\n",
    "from sklearn.ensemble import IsolationForest\n",
    "from pyod.models.iforest import IForest\n",
    "from numpy import percentile\n",
    "import matplotlib"
   ]
  },
  {
   "cell_type": "code",
   "execution_count": 96,
   "id": "e8605721",
   "metadata": {},
   "outputs": [
    {
     "data": {
      "text/html": [
       "<div>\n",
       "<style scoped>\n",
       "    .dataframe tbody tr th:only-of-type {\n",
       "        vertical-align: middle;\n",
       "    }\n",
       "\n",
       "    .dataframe tbody tr th {\n",
       "        vertical-align: top;\n",
       "    }\n",
       "\n",
       "    .dataframe thead th {\n",
       "        text-align: right;\n",
       "    }\n",
       "</style>\n",
       "<table border=\"1\" class=\"dataframe\">\n",
       "  <thead>\n",
       "    <tr style=\"text-align: right;\">\n",
       "      <th></th>\n",
       "      <th>Row ID</th>\n",
       "      <th>Order ID</th>\n",
       "      <th>Order Date</th>\n",
       "      <th>Ship Date</th>\n",
       "      <th>Ship Mode</th>\n",
       "      <th>Customer ID</th>\n",
       "      <th>Customer Name</th>\n",
       "      <th>Segment</th>\n",
       "      <th>Country</th>\n",
       "      <th>City</th>\n",
       "      <th>...</th>\n",
       "      <th>Postal Code</th>\n",
       "      <th>Region</th>\n",
       "      <th>Product ID</th>\n",
       "      <th>Category</th>\n",
       "      <th>Sub-Category</th>\n",
       "      <th>Product Name</th>\n",
       "      <th>Sales</th>\n",
       "      <th>Quantity</th>\n",
       "      <th>Discount</th>\n",
       "      <th>Profit</th>\n",
       "    </tr>\n",
       "  </thead>\n",
       "  <tbody>\n",
       "    <tr>\n",
       "      <th>0</th>\n",
       "      <td>1</td>\n",
       "      <td>CA-2016-152156</td>\n",
       "      <td>2016-11-08</td>\n",
       "      <td>2016-11-11</td>\n",
       "      <td>Second Class</td>\n",
       "      <td>CG-12520</td>\n",
       "      <td>Claire Gute</td>\n",
       "      <td>Consumer</td>\n",
       "      <td>United States</td>\n",
       "      <td>Henderson</td>\n",
       "      <td>...</td>\n",
       "      <td>42420</td>\n",
       "      <td>South</td>\n",
       "      <td>FUR-BO-10001798</td>\n",
       "      <td>Furniture</td>\n",
       "      <td>Bookcases</td>\n",
       "      <td>Bush Somerset Collection Bookcase</td>\n",
       "      <td>261.9600</td>\n",
       "      <td>2</td>\n",
       "      <td>0.00</td>\n",
       "      <td>41.9136</td>\n",
       "    </tr>\n",
       "    <tr>\n",
       "      <th>1</th>\n",
       "      <td>2</td>\n",
       "      <td>CA-2016-152156</td>\n",
       "      <td>2016-11-08</td>\n",
       "      <td>2016-11-11</td>\n",
       "      <td>Second Class</td>\n",
       "      <td>CG-12520</td>\n",
       "      <td>Claire Gute</td>\n",
       "      <td>Consumer</td>\n",
       "      <td>United States</td>\n",
       "      <td>Henderson</td>\n",
       "      <td>...</td>\n",
       "      <td>42420</td>\n",
       "      <td>South</td>\n",
       "      <td>FUR-CH-10000454</td>\n",
       "      <td>Furniture</td>\n",
       "      <td>Chairs</td>\n",
       "      <td>Hon Deluxe Fabric Upholstered Stacking Chairs,...</td>\n",
       "      <td>731.9400</td>\n",
       "      <td>3</td>\n",
       "      <td>0.00</td>\n",
       "      <td>219.5820</td>\n",
       "    </tr>\n",
       "    <tr>\n",
       "      <th>2</th>\n",
       "      <td>3</td>\n",
       "      <td>CA-2016-138688</td>\n",
       "      <td>2016-06-12</td>\n",
       "      <td>2016-06-16</td>\n",
       "      <td>Second Class</td>\n",
       "      <td>DV-13045</td>\n",
       "      <td>Darrin Van Huff</td>\n",
       "      <td>Corporate</td>\n",
       "      <td>United States</td>\n",
       "      <td>Los Angeles</td>\n",
       "      <td>...</td>\n",
       "      <td>90036</td>\n",
       "      <td>West</td>\n",
       "      <td>OFF-LA-10000240</td>\n",
       "      <td>Office Supplies</td>\n",
       "      <td>Labels</td>\n",
       "      <td>Self-Adhesive Address Labels for Typewriters b...</td>\n",
       "      <td>14.6200</td>\n",
       "      <td>2</td>\n",
       "      <td>0.00</td>\n",
       "      <td>6.8714</td>\n",
       "    </tr>\n",
       "    <tr>\n",
       "      <th>3</th>\n",
       "      <td>4</td>\n",
       "      <td>US-2015-108966</td>\n",
       "      <td>2015-10-11</td>\n",
       "      <td>2015-10-18</td>\n",
       "      <td>Standard Class</td>\n",
       "      <td>SO-20335</td>\n",
       "      <td>Sean O'Donnell</td>\n",
       "      <td>Consumer</td>\n",
       "      <td>United States</td>\n",
       "      <td>Fort Lauderdale</td>\n",
       "      <td>...</td>\n",
       "      <td>33311</td>\n",
       "      <td>South</td>\n",
       "      <td>FUR-TA-10000577</td>\n",
       "      <td>Furniture</td>\n",
       "      <td>Tables</td>\n",
       "      <td>Bretford CR4500 Series Slim Rectangular Table</td>\n",
       "      <td>957.5775</td>\n",
       "      <td>5</td>\n",
       "      <td>0.45</td>\n",
       "      <td>-383.0310</td>\n",
       "    </tr>\n",
       "    <tr>\n",
       "      <th>4</th>\n",
       "      <td>5</td>\n",
       "      <td>US-2015-108966</td>\n",
       "      <td>2015-10-11</td>\n",
       "      <td>2015-10-18</td>\n",
       "      <td>Standard Class</td>\n",
       "      <td>SO-20335</td>\n",
       "      <td>Sean O'Donnell</td>\n",
       "      <td>Consumer</td>\n",
       "      <td>United States</td>\n",
       "      <td>Fort Lauderdale</td>\n",
       "      <td>...</td>\n",
       "      <td>33311</td>\n",
       "      <td>South</td>\n",
       "      <td>OFF-ST-10000760</td>\n",
       "      <td>Office Supplies</td>\n",
       "      <td>Storage</td>\n",
       "      <td>Eldon Fold 'N Roll Cart System</td>\n",
       "      <td>22.3680</td>\n",
       "      <td>2</td>\n",
       "      <td>0.20</td>\n",
       "      <td>2.5164</td>\n",
       "    </tr>\n",
       "  </tbody>\n",
       "</table>\n",
       "<p>5 rows × 21 columns</p>\n",
       "</div>"
      ],
      "text/plain": [
       "   Row ID        Order ID Order Date  Ship Date       Ship Mode Customer ID  \\\n",
       "0       1  CA-2016-152156 2016-11-08 2016-11-11    Second Class    CG-12520   \n",
       "1       2  CA-2016-152156 2016-11-08 2016-11-11    Second Class    CG-12520   \n",
       "2       3  CA-2016-138688 2016-06-12 2016-06-16    Second Class    DV-13045   \n",
       "3       4  US-2015-108966 2015-10-11 2015-10-18  Standard Class    SO-20335   \n",
       "4       5  US-2015-108966 2015-10-11 2015-10-18  Standard Class    SO-20335   \n",
       "\n",
       "     Customer Name    Segment        Country             City  ...  \\\n",
       "0      Claire Gute   Consumer  United States        Henderson  ...   \n",
       "1      Claire Gute   Consumer  United States        Henderson  ...   \n",
       "2  Darrin Van Huff  Corporate  United States      Los Angeles  ...   \n",
       "3   Sean O'Donnell   Consumer  United States  Fort Lauderdale  ...   \n",
       "4   Sean O'Donnell   Consumer  United States  Fort Lauderdale  ...   \n",
       "\n",
       "  Postal Code  Region       Product ID         Category Sub-Category  \\\n",
       "0       42420   South  FUR-BO-10001798        Furniture    Bookcases   \n",
       "1       42420   South  FUR-CH-10000454        Furniture       Chairs   \n",
       "2       90036    West  OFF-LA-10000240  Office Supplies       Labels   \n",
       "3       33311   South  FUR-TA-10000577        Furniture       Tables   \n",
       "4       33311   South  OFF-ST-10000760  Office Supplies      Storage   \n",
       "\n",
       "                                        Product Name     Sales  Quantity  \\\n",
       "0                  Bush Somerset Collection Bookcase  261.9600         2   \n",
       "1  Hon Deluxe Fabric Upholstered Stacking Chairs,...  731.9400         3   \n",
       "2  Self-Adhesive Address Labels for Typewriters b...   14.6200         2   \n",
       "3      Bretford CR4500 Series Slim Rectangular Table  957.5775         5   \n",
       "4                     Eldon Fold 'N Roll Cart System   22.3680         2   \n",
       "\n",
       "   Discount    Profit  \n",
       "0      0.00   41.9136  \n",
       "1      0.00  219.5820  \n",
       "2      0.00    6.8714  \n",
       "3      0.45 -383.0310  \n",
       "4      0.20    2.5164  \n",
       "\n",
       "[5 rows x 21 columns]"
      ]
     },
     "execution_count": 96,
     "metadata": {},
     "output_type": "execute_result"
    }
   ],
   "source": [
    "### reading data from csv\n",
    "## Distribution of the sales\n",
    "df = pd.read_excel(\"E:/MyLearnings/My_Projects/Sample - Superstore.xls\")\n",
    "df.head() "
   ]
  },
  {
   "cell_type": "code",
   "execution_count": 97,
   "id": "31d8ed64",
   "metadata": {},
   "outputs": [
    {
     "data": {
      "text/plain": [
       "count     9994.000000\n",
       "mean       229.858001\n",
       "std        623.245101\n",
       "min          0.444000\n",
       "25%         17.280000\n",
       "50%         54.490000\n",
       "75%        209.940000\n",
       "max      22638.480000\n",
       "Name: Sales, dtype: float64"
      ]
     },
     "execution_count": 97,
     "metadata": {},
     "output_type": "execute_result"
    }
   ],
   "source": [
    "df['Sales'].describe()"
   ]
  },
  {
   "cell_type": "code",
   "execution_count": 98,
   "id": "d8270a05",
   "metadata": {},
   "outputs": [
    {
     "data": {
      "image/png": "[encoded data removed]",
      "text/plain": [
       "<Figure size 432x288 with 1 Axes>"
      ]
     },
     "metadata": {
      "needs_background": "light"
     },
     "output_type": "display_data"
    }
   ],
   "source": [
    "plt.scatter(range(df.shape[0]), np.sort(df['Sales'].values))\n",
    "plt.xlabel('index')\n",
    "plt.ylabel('Sales')\n",
    "plt.title(\"Sales distribution\") \n",
    "sns.despine()"
   ]
  },
  {
   "cell_type": "code",
   "execution_count": 99,
   "id": "2554e59a",
   "metadata": {},
   "outputs": [
    {
     "data": {
      "image/png": "[encoded data removed]",
      "text/plain": [
       "<Figure size 360x360 with 1 Axes>"
      ]
     },
     "metadata": {
      "needs_background": "light"
     },
     "output_type": "display_data"
    }
   ],
   "source": [
    "sns.displot(df[\"Sales\"])\n",
    "plt.title(\"Distribution of sales \")\n",
    "sns.despine()"
   ]
  },
  {
   "cell_type": "code",
   "execution_count": 100,
   "id": "00dbc8d1",
   "metadata": {},
   "outputs": [
    {
     "data": {
      "text/plain": [
       "count    9994.000000\n",
       "mean       28.656896\n",
       "std       234.260108\n",
       "min     -6599.978000\n",
       "25%         1.728750\n",
       "50%         8.666500\n",
       "75%        29.364000\n",
       "max      8399.976000\n",
       "Name: Profit, dtype: float64"
      ]
     },
     "execution_count": 100,
     "metadata": {},
     "output_type": "execute_result"
    }
   ],
   "source": [
    "df['Profit'].describe()"
   ]
  },
  {
   "cell_type": "code",
   "execution_count": 101,
   "id": "32794e6e",
   "metadata": {
    "scrolled": true
   },
   "outputs": [
    {
     "data": {
      "image/png": "[encoded data removed]",
      "text/plain": [
       "<Figure size 432x288 with 1 Axes>"
      ]
     },
     "metadata": {
      "needs_background": "light"
     },
     "output_type": "display_data"
    }
   ],
   "source": [
    "plt.scatter(range(df.shape[0]), np.sort(df['Profit'].values))\n",
    "plt.xlabel('index')\n",
    "plt.ylabel('Sales')\n",
    "plt.title(\"Profit distribution\")\n",
    "sns.despine()"
   ]
  },
  {
   "cell_type": "code",
   "execution_count": 102,
   "id": "821cf2eb",
   "metadata": {},
   "outputs": [
    {
     "data": {
      "image/png": "[encoded data removed]",
      "text/plain": [
       "<Figure size 360x360 with 1 Axes>"
      ]
     },
     "metadata": {
      "needs_background": "light"
     },
     "output_type": "display_data"
    }
   ],
   "source": [
    "sns.displot(df[\"Profit\"])\n",
    "plt.title(\"Distribution of Profit \")\n",
    "sns.despine()"
   ]
  },
  {
   "cell_type": "code",
   "execution_count": 103,
   "id": "ecf09eda",
   "metadata": {},
   "outputs": [
    {
     "name": "stdout",
     "output_type": "stream",
     "text": [
      "Skewness: 7.561432\n",
      "Kurtosis: 397.188515\n"
     ]
    }
   ],
   "source": [
    "print(\"Skewness: %f\" %df['Profit'].skew())\n",
    "print(\"Kurtosis: %f\" %df[\"Profit\"].kurt())"
   ]
  },
  {
   "cell_type": "code",
   "execution_count": 104,
   "id": "aaa95857",
   "metadata": {},
   "outputs": [],
   "source": [
    "isolation_forest = IsolationForest(n_estimators=100)\n",
    "isolation_forest.fit(df['Sales'].values.reshape(-1,1))\n",
    "xx = np.linspace(df[\"Sales\"].min(),df['Sales'].max(), len(df)).reshape(-1,1)\n",
    "anomaly_score = isolation_forest.decision_function(xx)\n",
    "# print(\"Anomaly Score: %f \" %anomaly_score)\n",
    "outlier = isolation_forest.predict(xx)\n",
    "# print(\"Outliers: %f\" %outlier)   "
   ]
  },
  {
   "cell_type": "code",
   "execution_count": 105,
   "id": "97cabbcb",
   "metadata": {},
   "outputs": [
    {
     "data": {
      "text/plain": [
       "array([-0.00597265,  0.04885332,  0.08264675, ..., -0.35357557,\n",
       "       -0.35357557, -0.35357557])"
      ]
     },
     "execution_count": 105,
     "metadata": {},
     "output_type": "execute_result"
    }
   ],
   "source": [
    "anomaly_score"
   ]
  },
  {
   "cell_type": "code",
   "execution_count": 106,
   "id": "7977eedc",
   "metadata": {},
   "outputs": [
    {
     "data": {
      "text/plain": [
       "array([-1,  1,  1, ..., -1, -1, -1])"
      ]
     },
     "execution_count": 106,
     "metadata": {},
     "output_type": "execute_result"
    }
   ],
   "source": [
    "outlier"
   ]
  },
  {
   "cell_type": "code",
   "execution_count": 107,
   "id": "3812596d",
   "metadata": {},
   "outputs": [
    {
     "data": {
      "image/png": "[encoded data removed]",
      "text/plain": [
       "<Figure size 720x288 with 1 Axes>"
      ]
     },
     "metadata": {
      "needs_background": "light"
     },
     "output_type": "display_data"
    }
   ],
   "source": [
    "plt.figure(figsize=(10,4))\n",
    "plt.plot(xx,anomaly_score,label =\"anomaly score\")\n",
    "plt.fill_between(xx.T[0], np.min(anomaly_score), np.max(anomaly_score),\n",
    "                where=outlier ==-1, color =\"r\",\n",
    "                alpha=.4,label =\"outlier region\")\n",
    "plt.legend()\n",
    "plt.ylabel(\"anomaly score\")\n",
    "plt.xlabel('Sales')                 \n",
    "plt.show();"
   ]
  },
  {
   "cell_type": "code",
   "execution_count": 108,
   "id": "19c7f96e",
   "metadata": {},
   "outputs": [
    {
     "data": {
      "text/plain": [
       "Row ID                                                 11\n",
       "Order ID                                   CA-2014-115812\n",
       "Order Date                            2014-06-09 00:00:00\n",
       "Ship Date                             2014-06-14 00:00:00\n",
       "Ship Mode                                  Standard Class\n",
       "Customer ID                                      BH-11710\n",
       "Customer Name                             Brosina Hoffman\n",
       "Segment                                          Consumer\n",
       "Country                                     United States\n",
       "City                                          Los Angeles\n",
       "State                                          California\n",
       "Postal Code                                         90032\n",
       "Region                                               West\n",
       "Product ID                                FUR-TA-10001539\n",
       "Category                                        Furniture\n",
       "Sub-Category                                       Tables\n",
       "Product Name     Chromcraft Rectangular Conference Tables\n",
       "Sales                                            1706.184\n",
       "Quantity                                                9\n",
       "Discount                                              0.2\n",
       "Profit                                            85.3092\n",
       "Name: 10, dtype: object"
      ]
     },
     "execution_count": 108,
     "metadata": {},
     "output_type": "execute_result"
    }
   ],
   "source": [
    "df.iloc[10]"
   ]
  },
  {
   "cell_type": "code",
   "execution_count": 109,
   "id": "104ef3e8",
   "metadata": {},
   "outputs": [
    {
     "name": "stdout",
     "output_type": "stream",
     "text": [
      "[-0.31189149 -0.31189149 -0.31189149 ... -0.35357557 -0.35357557\n",
      " -0.35357557]\n",
      "[-1 -1 -1 ... -1 -1 -1]\n"
     ]
    }
   ],
   "source": [
    "isolation_forest = IsolationForest(n_estimators=100)\n",
    "isolation_forest.fit(df['Profit'].values.reshape(-1,1))\n",
    "xx =np.linspace(df['Profit'].min(),df['Profit'].max(),len(df)).reshape(-1,1)\n",
    "anomaly_score = isolation_forest.decision_function(xx)\n",
    "outlier = isolation_forest.predict(xx)\n",
    "print(anomaly_score)\n",
    "print(outlier)"
   ]
  },
  {
   "cell_type": "code",
   "execution_count": 110,
   "id": "953bcbfd",
   "metadata": {},
   "outputs": [
    {
     "data": {
      "image/png": "[encoded data removed]",
      "text/plain": [
       "<Figure size 720x288 with 1 Axes>"
      ]
     },
     "metadata": {
      "needs_background": "light"
     },
     "output_type": "display_data"
    }
   ],
   "source": [
    "plt.figure(figsize=(10,4))\n",
    "plt.plot(xx, anomaly_score, label =\"anomaly score\")\n",
    "plt.fill_between(xx.T[0], np.min(anomaly_score) , np.max(anomaly_score),\n",
    "                 where = outlier==-1, color=\"r\",\n",
    "                 alpha=.4, label=\"outlier region\")\n",
    "plt.legend()\n",
    "plt.ylabel('anomaly score')\n",
    "plt.xlabel('Profit')\n",
    "plt.show()\n",
    "                                                         "
   ]
  },
  {
   "cell_type": "code",
   "execution_count": 111,
   "id": "bed00d3e",
   "metadata": {},
   "outputs": [
    {
     "data": {
      "text/plain": [
       "Row ID                                                       4\n",
       "Order ID                                        US-2015-108966\n",
       "Order Date                                 2015-10-11 00:00:00\n",
       "Ship Date                                  2015-10-18 00:00:00\n",
       "Ship Mode                                       Standard Class\n",
       "Customer ID                                           SO-20335\n",
       "Customer Name                                   Sean O'Donnell\n",
       "Segment                                               Consumer\n",
       "Country                                          United States\n",
       "City                                           Fort Lauderdale\n",
       "State                                                  Florida\n",
       "Postal Code                                              33311\n",
       "Region                                                   South\n",
       "Product ID                                     FUR-TA-10000577\n",
       "Category                                             Furniture\n",
       "Sub-Category                                            Tables\n",
       "Product Name     Bretford CR4500 Series Slim Rectangular Table\n",
       "Sales                                                 957.5775\n",
       "Quantity                                                     5\n",
       "Discount                                                  0.45\n",
       "Profit                                                -383.031\n",
       "Name: 3, dtype: object"
      ]
     },
     "execution_count": 111,
     "metadata": {},
     "output_type": "execute_result"
    }
   ],
   "source": [
    "df.iloc[3]"
   ]
  },
  {
   "cell_type": "code",
   "execution_count": 112,
   "id": "d5d3de12",
   "metadata": {},
   "outputs": [
    {
     "data": {
      "text/plain": [
       "Row ID                                                           2\n",
       "Order ID                                            CA-2016-152156\n",
       "Order Date                                     2016-11-08 00:00:00\n",
       "Ship Date                                      2016-11-11 00:00:00\n",
       "Ship Mode                                             Second Class\n",
       "Customer ID                                               CG-12520\n",
       "Customer Name                                          Claire Gute\n",
       "Segment                                                   Consumer\n",
       "Country                                              United States\n",
       "City                                                     Henderson\n",
       "State                                                     Kentucky\n",
       "Postal Code                                                  42420\n",
       "Region                                                       South\n",
       "Product ID                                         FUR-CH-10000454\n",
       "Category                                                 Furniture\n",
       "Sub-Category                                                Chairs\n",
       "Product Name     Hon Deluxe Fabric Upholstered Stacking Chairs,...\n",
       "Sales                                                       731.94\n",
       "Quantity                                                         3\n",
       "Discount                                                       0.0\n",
       "Profit                                                     219.582\n",
       "Name: 1, dtype: object"
      ]
     },
     "execution_count": 112,
     "metadata": {},
     "output_type": "execute_result"
    }
   ],
   "source": [
    "df.iloc[1]"
   ]
  },
  {
   "cell_type": "code",
   "execution_count": 113,
   "id": "603ea610",
   "metadata": {
    "scrolled": true
   },
   "outputs": [
    {
     "data": {
      "image/png": "[encoded data removed]",
      "text/plain": [
       "<Figure size 432x288 with 1 Axes>"
      ]
     },
     "metadata": {
      "needs_background": "light"
     },
     "output_type": "display_data"
    }
   ],
   "source": [
    "sns.regplot(x=\"Sales\", y=\"Profit\", data=df)\n",
    "sns.despine();"
   ]
  },
  {
   "cell_type": "code",
   "execution_count": 114,
   "id": "7416489f",
   "metadata": {},
   "outputs": [
    {
     "data": {
      "text/html": [
       "<div>\n",
       "<style scoped>\n",
       "    .dataframe tbody tr th:only-of-type {\n",
       "        vertical-align: middle;\n",
       "    }\n",
       "\n",
       "    .dataframe tbody tr th {\n",
       "        vertical-align: top;\n",
       "    }\n",
       "\n",
       "    .dataframe thead th {\n",
       "        text-align: right;\n",
       "    }\n",
       "</style>\n",
       "<table border=\"1\" class=\"dataframe\">\n",
       "  <thead>\n",
       "    <tr style=\"text-align: right;\">\n",
       "      <th></th>\n",
       "      <th>Sales</th>\n",
       "      <th>Profit</th>\n",
       "    </tr>\n",
       "  </thead>\n",
       "  <tbody>\n",
       "    <tr>\n",
       "      <th>0</th>\n",
       "      <td>261.9600</td>\n",
       "      <td>41.9136</td>\n",
       "    </tr>\n",
       "    <tr>\n",
       "      <th>1</th>\n",
       "      <td>731.9400</td>\n",
       "      <td>219.5820</td>\n",
       "    </tr>\n",
       "    <tr>\n",
       "      <th>2</th>\n",
       "      <td>14.6200</td>\n",
       "      <td>6.8714</td>\n",
       "    </tr>\n",
       "    <tr>\n",
       "      <th>3</th>\n",
       "      <td>957.5775</td>\n",
       "      <td>-383.0310</td>\n",
       "    </tr>\n",
       "    <tr>\n",
       "      <th>4</th>\n",
       "      <td>22.3680</td>\n",
       "      <td>2.5164</td>\n",
       "    </tr>\n",
       "  </tbody>\n",
       "</table>\n",
       "</div>"
      ],
      "text/plain": [
       "      Sales    Profit\n",
       "0  261.9600   41.9136\n",
       "1  731.9400  219.5820\n",
       "2   14.6200    6.8714\n",
       "3  957.5775 -383.0310\n",
       "4   22.3680    2.5164"
      ]
     },
     "execution_count": 114,
     "metadata": {},
     "output_type": "execute_result"
    }
   ],
   "source": [
    "cols = [\"Sales\",\"Profit\"]\n",
    "df[cols].head()"
   ]
  },
  {
   "cell_type": "code",
   "execution_count": 115,
   "id": "256e6e81",
   "metadata": {},
   "outputs": [],
   "source": [
    "from scipy import stats\n",
    "from sklearn.preprocessing import MinMaxScaler"
   ]
  },
  {
   "cell_type": "code",
   "execution_count": 116,
   "id": "6d4c691f",
   "metadata": {},
   "outputs": [
    {
     "data": {
      "text/html": [
       "<div>\n",
       "<style scoped>\n",
       "    .dataframe tbody tr th:only-of-type {\n",
       "        vertical-align: middle;\n",
       "    }\n",
       "\n",
       "    .dataframe tbody tr th {\n",
       "        vertical-align: top;\n",
       "    }\n",
       "\n",
       "    .dataframe thead th {\n",
       "        text-align: right;\n",
       "    }\n",
       "</style>\n",
       "<table border=\"1\" class=\"dataframe\">\n",
       "  <thead>\n",
       "    <tr style=\"text-align: right;\">\n",
       "      <th></th>\n",
       "      <th>Sales</th>\n",
       "      <th>Profit</th>\n",
       "    </tr>\n",
       "  </thead>\n",
       "  <tbody>\n",
       "    <tr>\n",
       "      <th>0</th>\n",
       "      <td>0.011552</td>\n",
       "      <td>0.442794</td>\n",
       "    </tr>\n",
       "    <tr>\n",
       "      <th>1</th>\n",
       "      <td>0.032313</td>\n",
       "      <td>0.454639</td>\n",
       "    </tr>\n",
       "    <tr>\n",
       "      <th>2</th>\n",
       "      <td>0.000626</td>\n",
       "      <td>0.440458</td>\n",
       "    </tr>\n",
       "    <tr>\n",
       "      <th>3</th>\n",
       "      <td>0.042280</td>\n",
       "      <td>0.414464</td>\n",
       "    </tr>\n",
       "    <tr>\n",
       "      <th>4</th>\n",
       "      <td>0.000968</td>\n",
       "      <td>0.440168</td>\n",
       "    </tr>\n",
       "  </tbody>\n",
       "</table>\n",
       "</div>"
      ],
      "text/plain": [
       "      Sales    Profit\n",
       "0  0.011552  0.442794\n",
       "1  0.032313  0.454639\n",
       "2  0.000626  0.440458\n",
       "3  0.042280  0.414464\n",
       "4  0.000968  0.440168"
      ]
     },
     "execution_count": 116,
     "metadata": {},
     "output_type": "execute_result"
    }
   ],
   "source": [
    "minmax = MinMaxScaler(feature_range=(0,1))\n",
    "df[['Sales','Profit']] = minmax.fit_transform(df[['Sales','Profit']])\n",
    "df[['Sales','Profit']].head()"
   ]
  },
  {
   "cell_type": "code",
   "execution_count": 117,
   "id": "4092ac2d",
   "metadata": {},
   "outputs": [],
   "source": [
    "X1 = df['Sales'].values.reshape(-1,1)\n",
    "X2 = df['Profit'].values.reshape(-1,1)\n",
    "X = np.concatenate((X1,X2),axis=1)"
   ]
  },
  {
   "cell_type": "code",
   "execution_count": 118,
   "id": "4c8c37ac",
   "metadata": {},
   "outputs": [
    {
     "data": {
      "text/plain": [
       "array([[0.01155206, 0.44279413],\n",
       "       [0.0323127 , 0.45463873],\n",
       "       [0.0006262 , 0.44045798],\n",
       "       ...,\n",
       "       [0.01140258, 0.44129277],\n",
       "       [0.00128792, 0.44088789],\n",
       "       [0.0107216 , 0.4448631 ]])"
      ]
     },
     "execution_count": 118,
     "metadata": {},
     "output_type": "execute_result"
    }
   ],
   "source": [
    "X                                   "
   ]
  },
  {
   "cell_type": "markdown",
   "id": "2ee48d3e",
   "metadata": {},
   "source": [
    "#### Isolation Forest"
   ]
  },
  {
   "cell_type": "markdown",
   "id": "d796d2e6",
   "metadata": {},
   "source": [
    "#### Isolation Forest is similar to random forest and is built on the basis of decision tree. It isolates observations by randomly selecting a feature and then randomly selecting a split value between the maximim and minimum values of selected feature"
   ]
  },
  {
   "cell_type": "code",
   "execution_count": 119,
   "id": "838b6b52",
   "metadata": {},
   "outputs": [
    {
     "name": "stdout",
     "output_type": "stream",
     "text": [
      "Outliers:  100  INLINERS:  9894\n"
     ]
    },
    {
     "data": {
      "image/png": "[encoded data removed]",
      "text/plain": [
       "<Figure size 576x576 with 1 Axes>"
      ]
     },
     "metadata": {
      "needs_background": "light"
     },
     "output_type": "display_data"
    }
   ],
   "source": [
    "outlier_fraction = 0.01\n",
    "xx, yy = np.meshgrid(np.linspace(0,1,100),np.linspace(0,1,100))\n",
    "clf = IForest(contamination = outlier_fraction,random_state =0)\n",
    "clf.fit(X)\n",
    "## predict raw anomaly score\n",
    "scored_pred = clf.decision_function(X) *-1\n",
    "\n",
    "##  prediction of a datapoint category outlier or inlier\n",
    "y_pred = clf.predict(X)\n",
    "n_inliners = len(y_pred) - np.count_nonzero(y_pred) \n",
    "n_outliers = np.count_nonzero(y_pred ==1)\n",
    "plt.figure(figsize =(8,8))\n",
    "## copy of dataframe \n",
    "df1 = df                    \n",
    "df1['outliers'] = y_pred.tolist()  \n",
    "## sales - inliers feature 1, profit - inlier feature2\n",
    "\n",
    "inliners_sales = np.array(df1['Sales'][df1['outliers']==0]) .reshape(-1,1)\n",
    "inliners_profit  = np.array(df1['Profit'][df1['outliers']==0]).reshape(-1 ,1)\n",
    "## sales - outlier feature1 , profit - outlier feature 2\n",
    "\n",
    "outliers_sales = df1['Sales'][df1['outliers']==1].values.reshape(-1,1)\n",
    "outliers_profit = df1['Profit'][df1['outliers']==1].values.reshape(-1,1)\n",
    "print('Outliers: ',n_outliers, \" INLINERS: \",n_inliners) \n",
    "# threshold value to consider a datapoint inlier or outlier \n",
    "threshold = percentile(scored_pred , 100* outlier_fraction)\n",
    " \n",
    "Z = clf.decision_function(np.c_[xx.ravel(), yy.ravel()]) *-1\n",
    "Z = Z.reshape(xx.shape)\n",
    "# fill blue map colormap from minimum anomaly score to threshold value\n",
    "plt.contourf(xx, yy, Z, levels=np.linspace(Z.min(), threshold, 7),cmap=plt.cm.Blues_r)\n",
    "# draw red contour line where anomaly score is equal to thresold\n",
    "\n",
    "a = plt.contour(xx,yy,Z,levels=[threshold],linewidths=2, colors=\"red\")\n",
    "# fill orange contour lines where range of anomaly score is from threshold to maximum anomaly score\n",
    "plt.contour(xx , yy, Z, levels=[threshold, Z.max()],colors= 'orange')\n",
    "b = plt.scatter(inliners_sales, inliners_profit, c=\"white\",s =20,edgecolor=\"k\")\n",
    "c = plt.scatter(outliers_sales, outliers_profit, c=\"black\", s=20 ,edgecolor=\"k\")\n",
    "plt.axis('tight')\n",
    "plt.legend([a.collections[0],b,c],['learned decision function', 'inliers','outliers'],prop = matplotlib.font_manager.FontProperties(size=20),loc='lower right') \n",
    "plt.xlim((0,1))\n",
    "plt.ylim((0,1))\n",
    "plt.title('Isolation Forest') \n",
    "plt.show();"
   ]
  },
  {
   "cell_type": "code",
   "execution_count": null,
   "id": "24650d5a",
   "metadata": {},
   "outputs": [],
   "source": []
  },
  {
   "cell_type": "code",
   "execution_count": null,
   "id": "10d9496e",
   "metadata": {},
   "outputs": [],
   "source": []
  },
  {
   "cell_type": "code",
   "execution_count": null,
   "id": "b7853760",
   "metadata": {},
   "outputs": [],
   "source": []
  },
  {
   "cell_type": "code",
   "execution_count": null,
   "id": "25571c95",
   "metadata": {},
   "outputs": [],
   "source": []
  },
  {
   "cell_type": "code",
   "execution_count": null,
   "id": "3e46d93f",
   "metadata": {},
   "outputs": [],
   "source": []
  },
  {
   "cell_type": "code",
   "execution_count": null,
   "id": "be923654",
   "metadata": {},
   "outputs": [],
   "source": []
  },
  {
   "cell_type": "code",
   "execution_count": null,
   "id": "59a5a984",
   "metadata": {},
   "outputs": [],
   "source": []
  },
  {
   "cell_type": "code",
   "execution_count": null,
   "id": "fa470631",
   "metadata": {},
   "outputs": [],
   "source": []
  },
  {
   "cell_type": "code",
   "execution_count": null,
   "id": "8d7286c0",
   "metadata": {},
   "outputs": [],
   "source": []
  },
  {
   "cell_type": "code",
   "execution_count": null,
   "id": "bc06d8f2",
   "metadata": {},
   "outputs": [],
   "source": []
  },
  {
   "cell_type": "code",
   "execution_count": null,
   "id": "0e9eede2",
   "metadata": {},
   "outputs": [],
   "source": []
  },
  {
   "cell_type": "code",
   "execution_count": null,
   "id": "9ca1a605",
   "metadata": {},
   "outputs": [],
   "source": []
  }
 ],
 "metadata": {
  "kernelspec": {
   "display_name": "Python 3",
   "language": "python",
   "name": "python3"
  },
  "language_info": {
   "codemirror_mode": {
    "name": "ipython",
    "version": 3
   },
   "file_extension": ".py",
   "mimetype": "text/x-python",
   "name": "python",
   "nbconvert_exporter": "python",
   "pygments_lexer": "ipython3",
   "version": "3.8.8"
  }
 },
 "nbformat": 4,
 "nbformat_minor": 5
}
